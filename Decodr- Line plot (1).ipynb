{
 "cells": [
  {
   "cell_type": "code",
   "execution_count": 1,
   "metadata": {},
   "outputs": [],
   "source": [
    "year=[1950,\n",
    " 1951,\n",
    " 1952,\n",
    " 1953,\n",
    " 1954,\n",
    " 1955,\n",
    " 1956,\n",
    " 1957,\n",
    " 1958,\n",
    " 1959,\n",
    " 1960,\n",
    " 1961,\n",
    " 1962,\n",
    " 1963,\n",
    " 1964,\n",
    " 1965,\n",
    " 1966,\n",
    " 1967,\n",
    " 1968,\n",
    " 1969,\n",
    " 1970,\n",
    " 1971,\n",
    " 1972,\n",
    " 1973,\n",
    " 1974,\n",
    " 1975,\n",
    " 1976,\n",
    " 1977,\n",
    " 1978,\n",
    " 1979,\n",
    " 1980,\n",
    " 1981,\n",
    " 1982,\n",
    " 1983,\n",
    " 1984,\n",
    " 1985,\n",
    " 1986,\n",
    " 1987,\n",
    " 1988,\n",
    " 1989,\n",
    " 1990,\n",
    " 1991,\n",
    " 1992,\n",
    " 1993,\n",
    " 1994,\n",
    " 1995,\n",
    " 1996,\n",
    " 1997,\n",
    " 1998,\n",
    " 1999,\n",
    " 2000,\n",
    " 2001,\n",
    " 2002,\n",
    " 2003,\n",
    " 2004,\n",
    " 2005,\n",
    " 2006,\n",
    " 2007,\n",
    " 2008,\n",
    " 2009,\n",
    " 2010,\n",
    " 2011,\n",
    " 2012,\n",
    " 2013,\n",
    " 2014,\n",
    " 2015,\n",
    " 2016,\n",
    " 2017,\n",
    " 2018,\n",
    " 2019,\n",
    " 2020,\n",
    " 2021,\n",
    " 2022,\n",
    " 2023,\n",
    " 2024,\n",
    " 2025,\n",
    " 2026,\n",
    " 2027,\n",
    " 2028,\n",
    " 2029,\n",
    " 2030,\n",
    " 2031,\n",
    " 2032,\n",
    " 2033,\n",
    " 2034,\n",
    " 2035,\n",
    " 2036,\n",
    " 2037,\n",
    " 2038,\n",
    " 2039,\n",
    " 2040,\n",
    " 2041,\n",
    " 2042,\n",
    " 2043,\n",
    " 2044,\n",
    " 2045,\n",
    " 2046,\n",
    " 2047,\n",
    " 2048,\n",
    " 2049,\n",
    " 2050,\n",
    " 2051,\n",
    " 2052,\n",
    " 2053,\n",
    " 2054,\n",
    " 2055,\n",
    " 2056,\n",
    " 2057,\n",
    " 2058,\n",
    " 2059,\n",
    " 2060,\n",
    " 2061,\n",
    " 2062,\n",
    " 2063,\n",
    " 2064,\n",
    " 2065,\n",
    " 2066,\n",
    " 2067,\n",
    " 2068,\n",
    " 2069,\n",
    " 2070,\n",
    " 2071,\n",
    " 2072,\n",
    " 2073,\n",
    " 2074,\n",
    " 2075,\n",
    " 2076,\n",
    " 2077,\n",
    " 2078,\n",
    " 2079,\n",
    " 2080,\n",
    " 2081,\n",
    " 2082,\n",
    " 2083,\n",
    " 2084,\n",
    " 2085,\n",
    " 2086,\n",
    " 2087,\n",
    " 2088,\n",
    " 2089,\n",
    " 2090,\n",
    " 2091,\n",
    " 2092,\n",
    " 2093,\n",
    " 2094,\n",
    " 2095,\n",
    " 2096,\n",
    " 2097,\n",
    " 2098,\n",
    " 2099,\n",
    " 2100]"
   ]
  },
  {
   "cell_type": "code",
   "execution_count": 2,
   "metadata": {},
   "outputs": [],
   "source": [
    "pop=[2.53,\n",
    " 2.57,\n",
    " 2.62,\n",
    " 2.67,\n",
    " 2.71,\n",
    " 2.76,\n",
    " 2.81,\n",
    " 2.86,\n",
    " 2.92,\n",
    " 2.97,\n",
    " 3.03,\n",
    " 3.08,\n",
    " 3.14,\n",
    " 3.2,\n",
    " 3.26,\n",
    " 3.33,\n",
    " 3.4,\n",
    " 3.47,\n",
    " 3.54,\n",
    " 3.62,\n",
    " 3.69,\n",
    " 3.77,\n",
    " 3.84,\n",
    " 3.92,\n",
    " 4.0,\n",
    " 4.07,\n",
    " 4.15,\n",
    " 4.22,\n",
    " 4.3,\n",
    " 4.37,\n",
    " 4.45,\n",
    " 4.53,\n",
    " 4.61,\n",
    " 4.69,\n",
    " 4.78,\n",
    " 4.86,\n",
    " 4.95,\n",
    " 5.05,\n",
    " 5.14,\n",
    " 5.23,\n",
    " 5.32,\n",
    " 5.41,\n",
    " 5.49,\n",
    " 5.58,\n",
    " 5.66,\n",
    " 5.74,\n",
    " 5.82,\n",
    " 5.9,\n",
    " 5.98,\n",
    " 6.05,\n",
    " 6.13,\n",
    " 6.2,\n",
    " 6.28,\n",
    " 6.36,\n",
    " 6.44,\n",
    " 6.51,\n",
    " 6.59,\n",
    " 6.67,\n",
    " 6.75,\n",
    " 6.83,\n",
    " 6.92,\n",
    " 7.0,\n",
    " 7.08,\n",
    " 7.16,\n",
    " 7.24,\n",
    " 7.32,\n",
    " 7.4,\n",
    " 7.48,\n",
    " 7.56,\n",
    " 7.64,\n",
    " 7.72,\n",
    " 7.79,\n",
    " 7.87,\n",
    " 7.94,\n",
    " 8.01,\n",
    " 8.08,\n",
    " 8.15,\n",
    " 8.22,\n",
    " 8.29,\n",
    " 8.36,\n",
    " 8.42,\n",
    " 8.49,\n",
    " 8.56,\n",
    " 8.62,\n",
    " 8.68,\n",
    " 8.74,\n",
    " 8.8,\n",
    " 8.86,\n",
    " 8.92,\n",
    " 8.98,\n",
    " 9.04,\n",
    " 9.09,\n",
    " 9.15,\n",
    " 9.2,\n",
    " 9.26,\n",
    " 9.31,\n",
    " 9.36,\n",
    " 9.41,\n",
    " 9.46,\n",
    " 9.5,\n",
    " 9.55,\n",
    " 9.6,\n",
    " 9.64,\n",
    " 9.68,\n",
    " 9.73,\n",
    " 9.77,\n",
    " 9.81,\n",
    " 9.85,\n",
    " 9.88,\n",
    " 9.92,\n",
    " 9.96,\n",
    " 9.99,\n",
    " 10.03,\n",
    " 10.06,\n",
    " 10.09,\n",
    " 10.13,\n",
    " 10.16,\n",
    " 10.19,\n",
    " 10.22,\n",
    " 10.25,\n",
    " 10.28,\n",
    " 10.31,\n",
    " 10.33,\n",
    " 10.36,\n",
    " 10.38,\n",
    " 10.41,\n",
    " 10.43,\n",
    " 10.46,\n",
    " 10.48,\n",
    " 10.5,\n",
    " 10.52,\n",
    " 10.55,\n",
    " 10.57,\n",
    " 10.59,\n",
    " 10.61,\n",
    " 10.63,\n",
    " 10.65,\n",
    " 10.66,\n",
    " 10.68,\n",
    " 10.7,\n",
    " 10.72,\n",
    " 10.73,\n",
    " 10.75,\n",
    " 10.77,\n",
    " 10.78,\n",
    " 10.79,\n",
    " 10.81,\n",
    " 10.82,\n",
    " 10.83,\n",
    " 10.84,\n",
    " 10.85]"
   ]
  },
  {
   "cell_type": "code",
   "execution_count": 3,
   "metadata": {},
   "outputs": [
    {
     "name": "stdout",
     "output_type": "stream",
     "text": [
      "[1950, 1951, 1952, 1953, 1954, 1955, 1956, 1957, 1958, 1959, 1960, 1961, 1962, 1963, 1964, 1965, 1966, 1967, 1968, 1969, 1970, 1971, 1972, 1973, 1974, 1975, 1976, 1977, 1978, 1979, 1980, 1981, 1982, 1983, 1984, 1985, 1986, 1987, 1988, 1989, 1990, 1991, 1992, 1993, 1994, 1995, 1996, 1997, 1998, 1999, 2000, 2001, 2002, 2003, 2004, 2005, 2006, 2007, 2008, 2009, 2010, 2011, 2012, 2013, 2014, 2015, 2016, 2017, 2018, 2019, 2020, 2021, 2022, 2023, 2024, 2025, 2026, 2027, 2028, 2029, 2030, 2031, 2032, 2033, 2034, 2035, 2036, 2037, 2038, 2039, 2040, 2041, 2042, 2043, 2044, 2045, 2046, 2047, 2048, 2049, 2050, 2051, 2052, 2053, 2054, 2055, 2056, 2057, 2058, 2059, 2060, 2061, 2062, 2063, 2064, 2065, 2066, 2067, 2068, 2069, 2070, 2071, 2072, 2073, 2074, 2075, 2076, 2077, 2078, 2079, 2080, 2081, 2082, 2083, 2084, 2085, 2086, 2087, 2088, 2089, 2090, 2091, 2092, 2093, 2094, 2095, 2096, 2097, 2098, 2099, 2100]\n"
     ]
    }
   ],
   "source": [
    "print(year)"
   ]
  },
  {
   "cell_type": "code",
   "execution_count": 4,
   "metadata": {},
   "outputs": [
    {
     "name": "stdout",
     "output_type": "stream",
     "text": [
      "[2.53, 2.57, 2.62, 2.67, 2.71, 2.76, 2.81, 2.86, 2.92, 2.97, 3.03, 3.08, 3.14, 3.2, 3.26, 3.33, 3.4, 3.47, 3.54, 3.62, 3.69, 3.77, 3.84, 3.92, 4.0, 4.07, 4.15, 4.22, 4.3, 4.37, 4.45, 4.53, 4.61, 4.69, 4.78, 4.86, 4.95, 5.05, 5.14, 5.23, 5.32, 5.41, 5.49, 5.58, 5.66, 5.74, 5.82, 5.9, 5.98, 6.05, 6.13, 6.2, 6.28, 6.36, 6.44, 6.51, 6.59, 6.67, 6.75, 6.83, 6.92, 7.0, 7.08, 7.16, 7.24, 7.32, 7.4, 7.48, 7.56, 7.64, 7.72, 7.79, 7.87, 7.94, 8.01, 8.08, 8.15, 8.22, 8.29, 8.36, 8.42, 8.49, 8.56, 8.62, 8.68, 8.74, 8.8, 8.86, 8.92, 8.98, 9.04, 9.09, 9.15, 9.2, 9.26, 9.31, 9.36, 9.41, 9.46, 9.5, 9.55, 9.6, 9.64, 9.68, 9.73, 9.77, 9.81, 9.85, 9.88, 9.92, 9.96, 9.99, 10.03, 10.06, 10.09, 10.13, 10.16, 10.19, 10.22, 10.25, 10.28, 10.31, 10.33, 10.36, 10.38, 10.41, 10.43, 10.46, 10.48, 10.5, 10.52, 10.55, 10.57, 10.59, 10.61, 10.63, 10.65, 10.66, 10.68, 10.7, 10.72, 10.73, 10.75, 10.77, 10.78, 10.79, 10.81, 10.82, 10.83, 10.84, 10.85]\n"
     ]
    }
   ],
   "source": [
    "print(pop)"
   ]
  },
  {
   "cell_type": "markdown",
   "metadata": {},
   "source": [
    "Steps:\n",
    "1. print() the last item from both the year and the pop list to see what the predicted population for the year 2100 is. Use two print() functions.\n",
    "2. Before you can start, you should import matplotlib.pyplot as plt. pyplot is a sub-package of matplotlib, hence the dot.\n",
    "3. Use plt.plot() to build a line plot. year should be mapped on the horizontal axis, pop on the vertical axis. Don't forget to finish off with the show() function to actually display the plot."
   ]
  },
  {
   "cell_type": "code",
   "execution_count": 6,
   "metadata": {},
   "outputs": [
    {
     "name": "stdout",
     "output_type": "stream",
     "text": [
      "2100\n",
      "10.85\n"
     ]
    },
    {
     "data": {
      "text/plain": [
       "<function matplotlib.pyplot.show(*args, **kw)>"
      ]
     },
     "execution_count": 6,
     "metadata": {},
     "output_type": "execute_result"
    },
    {
     "data": {
      "image/png": "[encoded data removed]",
      "text/plain": [
       "<Figure size 432x288 with 1 Axes>"
      ]
     },
     "metadata": {
      "needs_background": "light"
     },
     "output_type": "display_data"
    }
   ],
   "source": [
    "# Print the last item from year and pop\n",
    "print(year[-1])\n",
    "print(pop[-1])\n",
    "\n",
    "\n",
    "# Import matplotlib.pyplot as plt\n",
    "import matplotlib.pyplot as plt\n",
    "\n",
    "# Make a line plot: year on the x-axis, pop on the y-axis\n",
    "plt.plot(year,pop)\n",
    "\n",
    "# Display the plot with plt.show()\n",
    "plt.show"
   ]
  },
  {
   "cell_type": "code",
   "execution_count": 10,
   "metadata": {},
   "outputs": [
    {
     "data": {
      "image/png": "[encoded data removed]",
      "text/plain": [
       "<Figure size 432x288 with 1 Axes>"
      ]
     },
     "metadata": {
      "needs_background": "light"
     },
     "output_type": "display_data"
    }
   ],
   "source": [
    "plt.clf()\n",
    "plt.plot(year,pop,marker='.',linestyle='none')\n",
    "plt.show()"
   ]
  },
  {
   "cell_type": "code",
   "execution_count": 11,
   "metadata": {},
   "outputs": [],
   "source": [
    "age=[20,21,19]\n",
    "marks=[90,91,92]"
   ]
  },
  {
   "cell_type": "code",
   "execution_count": 19,
   "metadata": {},
   "outputs": [
    {
     "data": {
      "image/png": "[encoded data removed]",
      "text/plain": [
       "<Figure size 432x288 with 1 Axes>"
      ]
     },
     "metadata": {
      "needs_background": "light"
     },
     "output_type": "display_data"
    }
   ],
   "source": [
    "plt.plot(age,marks,marker='.',linestyle=\"none\")\n",
    "plt.show()"
   ]
  },
  {
   "cell_type": "code",
   "execution_count": null,
   "metadata": {},
   "outputs": [],
   "source": []
  }
 ],
 "metadata": {
  "kernelspec": {
   "display_name": "Python 3",
   "language": "python",
   "name": "python3"
  },
  "language_info": {
   "codemirror_mode": {
    "name": "ipython",
    "version": 3
   },
   "file_extension": ".py",
   "mimetype": "text/x-python",
   "name": "python",
   "nbconvert_exporter": "python",
   "pygments_lexer": "ipython3",
   "version": "3.7.1"
  }
 },
 "nbformat": 4,
 "nbformat_minor": 2
}
