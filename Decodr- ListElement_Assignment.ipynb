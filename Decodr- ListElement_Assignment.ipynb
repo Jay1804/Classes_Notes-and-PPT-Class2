{
 "cells": [
  {
   "cell_type": "code",
   "execution_count": 6,
   "metadata": {},
   "outputs": [],
   "source": [
    "vishal=92\n",
    "swarna=90\n",
    "akash=91\n",
    "bharath=93\n",
    "soma=95"
   ]
  },
  {
   "cell_type": "code",
   "execution_count": 7,
   "metadata": {},
   "outputs": [],
   "source": [
    "marks1=[\"vishal's marks\",vishal,\"swarna's marks\",swarna,\"akash's marks\",akash,\"bharath's marks\",bharath,\"soma's marks\",soma]"
   ]
  },
  {
   "cell_type": "code",
   "execution_count": 9,
   "metadata": {},
   "outputs": [],
   "source": [
    "marks1[-1]=93"
   ]
  },
  {
   "cell_type": "code",
   "execution_count": 10,
   "metadata": {},
   "outputs": [
    {
     "name": "stdout",
     "output_type": "stream",
     "text": [
      "[\"vishal's marks\", 92, \"swarna's marks\", 90, \"akash's marks\", 91, \"bharath's marks\", 93, \"soma's marks\", 93]\n"
     ]
    }
   ],
   "source": [
    "print(marks1)"
   ]
  },
  {
   "cell_type": "code",
   "execution_count": 12,
   "metadata": {},
   "outputs": [],
   "source": [
    "marks1[6]=\"bharath marks\""
   ]
  },
  {
   "cell_type": "code",
   "execution_count": 13,
   "metadata": {},
   "outputs": [
    {
     "name": "stdout",
     "output_type": "stream",
     "text": [
      "[\"vishal's marks\", 92, \"swarna's marks\", 90, \"akash's marks\", 91, 'bharath marks', 93, \"soma's marks\", 93]\n"
     ]
    }
   ],
   "source": [
    "print(marks1)"
   ]
  },
  {
   "cell_type": "code",
   "execution_count": 14,
   "metadata": {},
   "outputs": [],
   "source": [
    "marks2=marks1+ [\"Flynn\",96]"
   ]
  },
  {
   "cell_type": "code",
   "execution_count": 15,
   "metadata": {},
   "outputs": [
    {
     "name": "stdout",
     "output_type": "stream",
     "text": [
      "[\"vishal's marks\", 92, \"swarna's marks\", 90, \"akash's marks\", 91, 'bharath marks', 93, \"soma's marks\", 93, 'Flynn', 96]\n"
     ]
    }
   ],
   "source": [
    "print(marks2)"
   ]
  },
  {
   "cell_type": "code",
   "execution_count": 16,
   "metadata": {},
   "outputs": [],
   "source": [
    "marks3=[\"jay\",91]+marks2"
   ]
  },
  {
   "cell_type": "code",
   "execution_count": 17,
   "metadata": {},
   "outputs": [
    {
     "name": "stdout",
     "output_type": "stream",
     "text": [
      "['jay', 91, \"vishal's marks\", 92, \"swarna's marks\", 90, \"akash's marks\", 91, 'bharath marks', 93, \"soma's marks\", 93, 'Flynn', 96]\n"
     ]
    }
   ],
   "source": [
    "print(marks3)"
   ]
  },
  {
   "cell_type": "code",
   "execution_count": 18,
   "metadata": {},
   "outputs": [
    {
     "name": "stdout",
     "output_type": "stream",
     "text": [
      "[\"vishal's marks\", 92, \"swarna's marks\", 90, \"akash's marks\", 91, 'bharath marks', 93, \"soma's marks\", 93]\n"
     ]
    }
   ],
   "source": [
    "print(marks1)"
   ]
  },
  {
   "cell_type": "code",
   "execution_count": 19,
   "metadata": {},
   "outputs": [
    {
     "name": "stdout",
     "output_type": "stream",
     "text": [
      "[\"vishal's marks\", 92, \"swarna's marks\", 90, \"akash's marks\", 91, 'bharath marks', 93, \"soma's marks\", 93, 'Flynn', 96]\n"
     ]
    }
   ],
   "source": [
    "print(marks2)"
   ]
  },
  {
   "cell_type": "code",
   "execution_count": null,
   "metadata": {},
   "outputs": [],
   "source": []
  }
 ],
 "metadata": {
  "kernelspec": {
   "display_name": "Python 3",
   "language": "python",
   "name": "python3"
  },
  "language_info": {
   "codemirror_mode": {
    "name": "ipython",
    "version": 3
   },
   "file_extension": ".py",
   "mimetype": "text/x-python",
   "name": "python",
   "nbconvert_exporter": "python",
   "pygments_lexer": "ipython3",
   "version": "3.7.1"
  }
 },
 "nbformat": 4,
 "nbformat_minor": 2
}
